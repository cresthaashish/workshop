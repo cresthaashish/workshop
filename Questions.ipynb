{
 "cells": [
  {
   "cell_type": "markdown",
   "metadata": {},
   "source": [
    "# Q. You are given a string and your task is to swap cases. In other words, convert all lowercase letters to uppercase letters and vice versa.\n",
    "\n",
    "input: 'This is mE 123'\n",
    "\n",
    "output: 'tHIS IS Me 123'"
   ]
  },
  {
   "cell_type": "markdown",
   "metadata": {},
   "source": [
    "# Q. The user enters a string and a substring. You have to print the number of times that the substring occurs in the given string. String traversal will take place from left to right, not from right to left.\n",
    "\n",
    "Input: \n",
    "\n",
    "ABCDCDC\n",
    "\n",
    "CDC\n",
    "\n",
    "Output:\n",
    "\n",
    "2"
   ]
  },
  {
   "cell_type": "markdown",
   "metadata": {},
   "source": [
    "# Q. You are given a string and your task is remove all Upper case letters. \n",
    "\n",
    "input: 'This is mE 123'\n",
    "\n",
    "output: 'his is m 123'"
   ]
  },
  {
   "cell_type": "markdown",
   "metadata": {},
   "source": [
    "# Q. Find the maximum value from the given list \n",
    "\n",
    "\"Don't use max() function \"\n",
    "\n",
    "input: [12, 3, 20, 45, 67]\n",
    "\n",
    "output: 67\n"
   ]
  },
  {
   "cell_type": "code",
   "execution_count": 72,
   "metadata": {},
   "outputs": [
    {
     "name": "stdout",
     "output_type": "stream",
     "text": [
      "67\n"
     ]
    }
   ],
   "source": [
    "lst=[12,3,20,45,67]\n",
    "max_val = lst[0]       # initialize with the first value from the list\n",
    "for item in lst:       # loop over the items in the list\n",
    "    if item > max_val: # compare current item with the maximum seen so far\n",
    "        max_val = item # set new max\n",
    "print(max_val)         # return the max\n",
    "\n",
    "\n"
   ]
  },
  {
   "cell_type": "markdown",
   "metadata": {},
   "source": [
    "# Q. Find the element wise sum of two 2-d list\n",
    "\n",
    "input: [[1,2],[3,4]], [[1,1],[1,1]]\n",
    "\n",
    "output: [[2,3],[4,5]]"
   ]
  },
  {
   "cell_type": "code",
   "execution_count": 17,
   "metadata": {},
   "outputs": [
    {
     "name": "stdout",
     "output_type": "stream",
     "text": [
      "[[[1, 2], [3, 4], [1, 1], [1, 1]]]\n",
      "output: [[2, 3], [4, 5]]\n"
     ]
    }
   ],
   "source": [
    "lst1=[[1,2],[3,4]]\n",
    "lst2=[[1,1],[1,1]]\n",
    "lest=[]\n",
    "lest.append(lst1+lst2)\n",
    "print(lest)\n",
    "lst=[[lst1[0][0]+lst2[0][0],lst1[0][1]+lst2[0][1]],[lst1[1][0]+lst2[1][0],lst1[1][1]+lst2[1][1]]]\n",
    "print(\"output:\",lst)"
   ]
  },
  {
   "cell_type": "markdown",
   "metadata": {},
   "source": [
    "# Q.  Write a Python program to insert a given string at the beginning of all items in a list.\n",
    "\n",
    "Sample list : [1,2,3,4], string : emp\n",
    "\n",
    "Expected output : ['emp1', 'emp2', 'emp3', 'emp4']"
   ]
  },
  {
   "cell_type": "code",
   "execution_count": 23,
   "metadata": {},
   "outputs": [
    {
     "name": "stdout",
     "output_type": "stream",
     "text": [
      "['emp1', 'emp2', 'emp3', 'emp4']\n"
     ]
    }
   ],
   "source": [
    "a=['1','2','3','4']\n",
    "b=input(\"Input string:\")\n",
    "c=[]\n",
    "for i in a:\n",
    "    c.append(b+i)\n",
    "print(c)"
   ]
  },
  {
   "cell_type": "markdown",
   "metadata": {},
   "source": [
    "# Q. Sort the list of tuple based on second item\n",
    "\n",
    "input: [('A',10),('B', 2), ('C', 7)]\n",
    "\n",
    "output:  [('B', 2),('C', 7), ('A',10)]"
   ]
  },
  {
   "cell_type": "code",
   "execution_count": 31,
   "metadata": {},
   "outputs": [
    {
     "name": "stdout",
     "output_type": "stream",
     "text": [
      "output: [('B', 2), ('A', 10), ('C', 7)]\n"
     ]
    }
   ],
   "source": [
    "lst=[('A',10),('B', 2), ('C', 7)]\n",
    "for i in lst:\n",
    "    lst[0],lst[1]=lst[1],lst[0]\n",
    "print(\"output:\",lst)"
   ]
  },
  {
   "cell_type": "markdown",
   "metadata": {},
   "source": [
    "# Q. Remove the items from the given dictionary having highest value.\n",
    "\n",
    "input: {'A':10, 'B':3, 'C':12, 'D':2}\n",
    "\n",
    "output: {'A':10, 'B':3,'D':2}"
   ]
  },
  {
   "cell_type": "code",
   "execution_count": 2,
   "metadata": {},
   "outputs": [
    {
     "name": "stdout",
     "output_type": "stream",
     "text": [
      "{'A': 10, 'B': 3, 'D': 2}\n"
     ]
    }
   ],
   "source": [
    "d={'A':10, 'B':3, 'C':12, 'D':2}\n",
    "del d[max(d, key=d.get)]\n",
    "print(d)"
   ]
  },
  {
   "cell_type": "code",
   "execution_count": null,
   "metadata": {},
   "outputs": [],
   "source": []
  }
 ],
 "metadata": {
  "kernelspec": {
   "display_name": "Python 3",
   "language": "python",
   "name": "python3"
  },
  "language_info": {
   "codemirror_mode": {
    "name": "ipython",
    "version": 3
   },
   "file_extension": ".py",
   "mimetype": "text/x-python",
   "name": "python",
   "nbconvert_exporter": "python",
   "pygments_lexer": "ipython3",
   "version": "3.6.5"
  }
 },
 "nbformat": 4,
 "nbformat_minor": 2
}
